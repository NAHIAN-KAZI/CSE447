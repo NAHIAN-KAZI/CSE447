{
  "nbformat": 4,
  "nbformat_minor": 0,
  "metadata": {
    "colab": {
      "provenance": []
    },
    "kernelspec": {
      "name": "python3",
      "display_name": "Python 3"
    },
    "language_info": {
      "name": "python"
    }
  },
  "cells": [
    {
      "cell_type": "markdown",
      "source": [
        "# Caesar Cipher"
      ],
      "metadata": {
        "id": "1wOocgMlVig-"
      }
    },
    {
      "cell_type": "code",
      "source": [
        "def decrypt_shift_cipher(ciphertext, key):\n",
        "  plaintext = \"\"\n",
        "  for char in ciphertext:\n",
        "      if char.isalpha():\n",
        "          if char.isupper():\n",
        "              decrypted_char = chr(((ord(char) - ord('A') - key) % 26) + ord('A'))\n",
        "          else:\n",
        "              decrypted_char = chr(((ord(char) - ord('a') - key) % 26) + ord('a'))\n",
        "      else:\n",
        "          decrypted_char = char\n",
        "      plaintext += decrypted_char\n",
        "  return plaintext"
      ],
      "metadata": {
        "id": "DeTQVJUm2hm0"
      },
      "execution_count": null,
      "outputs": []
    },
    {
      "cell_type": "code",
      "execution_count": null,
      "metadata": {
        "id": "mCabVhcQz0bV"
      },
      "outputs": [],
      "source": [
        "def encrypt_shift_cipher(plaintext, key):\n",
        "  ciphertext = \"\"\n",
        "  for char in plaintext:\n",
        "      if char.isalpha():\n",
        "          if char.isupper():\n",
        "              encrypted_char = chr(((ord(char) - ord('A') + key) % 26) + ord('A'))\n",
        "          else:\n",
        "              encrypted_char = chr(((ord(char) - ord('a') + key) % 26) + ord('a'))\n",
        "      else:\n",
        "          encrypted_char = char\n",
        "      ciphertext += encrypted_char\n",
        "  return ciphertext"
      ]
    },
    {
      "cell_type": "code",
      "source": [
        "#Decrypt the following text and find out the value of the key using the decrypt_shift_cipher() method.\n",
        "ciphertext = \"O gs Hgzsgt\"\n",
        "for i in range(26):\n",
        "  print(decrypt_shift_cipher(ciphertext, i))"
      ],
      "metadata": {
        "id": "dBQ7hHE_20uH",
        "collapsed": true,
        "colab": {
          "base_uri": "https://localhost:8080/"
        },
        "outputId": "42d2ed67-96bd-4d1f-9a82-a9920a4a9224"
      },
      "execution_count": null,
      "outputs": [
        {
          "output_type": "stream",
          "name": "stdout",
          "text": [
            "O gs Hgzsgt\n",
            "N fr Gfyrfs\n",
            "M eq Fexqer\n",
            "L dp Edwpdq\n",
            "K co Dcvocp\n",
            "J bn Cbunbo\n",
            "I am Batman\n",
            "H zl Azslzm\n",
            "G yk Zyrkyl\n",
            "F xj Yxqjxk\n",
            "E wi Xwpiwj\n",
            "D vh Wvohvi\n",
            "C ug Vunguh\n",
            "B tf Utmftg\n",
            "A se Tslesf\n",
            "Z rd Srkdre\n",
            "Y qc Rqjcqd\n",
            "X pb Qpibpc\n",
            "W oa Pohaob\n",
            "V nz Ongzna\n",
            "U my Nmfymz\n",
            "T lx Mlexly\n",
            "S kw Lkdwkx\n",
            "R jv Kjcvjw\n",
            "Q iu Jibuiv\n",
            "P ht Ihathu\n"
          ]
        }
      ]
    },
    {
      "cell_type": "code",
      "source": [
        "#Encrypt the following plaintext, using the summation of last 2 digits of your ID as the key\n",
        "student_id = input(\"Enter your 8-digit student ID: \")\n",
        "last_two_digits = student_id[-2:]\n",
        "key = int(last_two_digits[0]) + int(last_two_digits[1])\n",
        "encrypted_text = encrypt_shift_cipher(plaintext, key)\n",
        "print(f\"Encrypted text with key {key}: {encrypted_text}\")\n",
        "plaintext = \"I am Batman\""
      ],
      "metadata": {
        "id": "YWqRQMF3455I",
        "colab": {
          "base_uri": "https://localhost:8080/"
        },
        "outputId": "64678d12-289a-43b9-899e-dfd47a144358"
      },
      "execution_count": null,
      "outputs": [
        {
          "output_type": "stream",
          "name": "stdout",
          "text": [
            "Enter your 8-digit student ID: 20301160\n",
            "Encrypted text with key 6: O gs Hgzsgt\n"
          ]
        }
      ]
    },
    {
      "cell_type": "markdown",
      "source": [
        "# Substitution Cipher"
      ],
      "metadata": {
        "id": "RqFWriJBVoDO"
      }
    },
    {
      "cell_type": "code",
      "source": [
        "import pandas as pd\n",
        "def frequency_table(text):\n",
        "  table = []\n",
        "  count = 0\n",
        "  for i in text:\n",
        "    if i in 'qwertyuiopasdfghjklzxcvbnm':\n",
        "      count += 1\n",
        "  for i in range(97,123):\n",
        "    table.append(text.count(chr(i))/count)\n",
        "  index = [i[0] for i in sorted(enumerate(table), key=lambda x:x[1])][::-1]\n",
        "  for i in index:\n",
        "    print(chr(97+i)+\":\"+str(table[i]))"
      ],
      "metadata": {
        "id": "ZwImnQeYVtGE"
      },
      "execution_count": null,
      "outputs": []
    },
    {
      "cell_type": "code",
      "source": [
        "ciphertext = \"awbix ildxz kolf a dkzeplld afu zbjjbfm lf bj bz a rwkx iajxpobwwap zdlgbfm a ellgae. jex iajxpobwwap ykxzjblfz awbix afu zex audbjz jl exp ikppxfj buxfjbjt ipbzbz, ildolkfuxu rt exp bfarbwbjt jl pxdxdrxp a olxd. rxnlpx ipahwbfm ahat, jex iajxpobwwap jxwwz awbix jeaj lfx zbux ln jex dkzeplld hbww dagx exp jawwxp afu jex ljexp zbux hbww dagx exp zelpjxp. zex rpxagz lnn jhl obxixz npld jex dkzeplld. lfx zbux dagxz exp zepbfg zdawwxp jeaf xcxp, hebwx afljexp iakzxz exp fxig jl mplh ebme bfjl jex jpxxz, hexpx a obmxlf dbzjagxz exp nlp a zxpoxfj. hbje zldx xnnlpj, awbix rpbfmz expzxwn raig jl exp kzkaw exbmej. zex zjkdrwxz kolf a zdaww xzjajx afu kzxz jex dkzeplld jl pxaie a dlpx aooplopbajx exbmej.\"\n",
        "frequency_table(ciphertext)"
      ],
      "metadata": {
        "id": "2R-LMVH-brn3",
        "colab": {
          "base_uri": "https://localhost:8080/"
        },
        "outputId": "b20a09ca-aab4-4415-937b-aff470eeb4aa"
      },
      "execution_count": null,
      "outputs": [
        {
          "output_type": "stream",
          "name": "stdout",
          "text": [
            "x:0.140597539543058\n",
            "p:0.08260105448154657\n",
            "a:0.08084358523725835\n",
            "j:0.07908611599297012\n",
            "z:0.07381370826010544\n",
            "l:0.07381370826010544\n",
            "e:0.07205623901581722\n",
            "b:0.06854130052724078\n",
            "w:0.050966608084358524\n",
            "f:0.043936731107205626\n",
            "d:0.043936731107205626\n",
            "i:0.029876977152899824\n",
            "k:0.026362038664323375\n",
            "o:0.022847100175746926\n",
            "u:0.019332161687170474\n",
            "g:0.01757469244288225\n",
            "r:0.015817223198594025\n",
            "n:0.015817223198594025\n",
            "m:0.015817223198594025\n",
            "h:0.015817223198594025\n",
            "t:0.007029876977152899\n",
            "y:0.0017574692442882249\n",
            "c:0.0017574692442882249\n",
            "v:0.0\n",
            "s:0.0\n",
            "q:0.0\n"
          ]
        }
      ]
    },
    {
      "cell_type": "code",
      "source": [
        "ciphertext = \"awbix ildxz kolf a dkzeplld afu zbjjbfm lf bj bz a rwkx iajxpobwwap zdlgbfm a ellgae.\\n jex iajxpobwwap ykxzjblfz awbix afu zex audbjz jl exp ikppxfj buxfjbjt ipbzbz, ildolkfuxu rt exp bfarbwbjt jl pxdxdrxp a olxd.\\n rxnlpx ipahwbfm ahat, jex iajxpobwwap jxwwz awbix jeaj lfx zbux ln jex dkzeplld hbww dagx exp jawwxp afu jex ljexp zbux hbww dagx exp zelpjxp.\\n zex rpxagz lnn jhl obxixz npld jex dkzeplld.\\n lfx zbux dagxz exp zepbfg zdawwxp jeaf xcxp, hebwx afljexp iakzxz exp fxig jl mplh ebme bfjl jex jpxxz, hexpx a obmxlf dbzjagxz exp nlp a zxpoxfj.\\n hbje zldx xnnlpj, awbix rpbfmz expzxwn raig jl exp kzkaw exbmej.\\n zex zjkdrwxz kolf a zdaww xzjajx afu kzxz jex dkzeplld jl pxaie a dlpx aooplopbajx exbmej.\"\n",
        "ciphertext = ciphertext.replace(\"x\",\"E\")\n",
        "ciphertext = ciphertext.replace(\"a\",\"A\")\n",
        "ciphertext = ciphertext.replace(\"j\",\"T\")\n",
        "ciphertext = ciphertext.replace(\"e\",\"H\")\n",
        "ciphertext = ciphertext.replace(\"p\",\"R\")\n",
        "ciphertext = ciphertext.replace(\"z\",\"S\")\n",
        "ciphertext = ciphertext.replace(\"d\",\"M\")\n",
        "ciphertext = ciphertext.replace(\"r\",\"B\")\n",
        "ciphertext = ciphertext.replace(\"b\",\"I\")\n",
        "ciphertext = ciphertext.replace(\"m\",\"G\")\n",
        "ciphertext = ciphertext.replace(\"o\",\"P\")\n",
        "ciphertext = ciphertext.replace(\"l\",\"O\")\n",
        "ciphertext = ciphertext.replace(\"z\",\"S\")\n",
        "ciphertext = ciphertext.replace(\"f\",\"N\")\n",
        "ciphertext = ciphertext.replace(\"k\",\"U\")\n",
        "ciphertext = ciphertext.replace(\"g\",\"K\")\n",
        "ciphertext = ciphertext.replace(\"u\",\"D\")\n",
        "ciphertext = ciphertext.replace(\"n\",\"F\")\n",
        "ciphertext = ciphertext.replace(\"y\",\"Q\")\n",
        "ciphertext = ciphertext.replace(\"t\",\"Y\")\n",
        "ciphertext = ciphertext.replace(\"i\",\"C\")\n",
        "ciphertext = ciphertext.replace(\"h\",\"W\")\n",
        "ciphertext = ciphertext.replace(\"w\",\"L\")\n",
        "ciphertext = ciphertext.replace(\"c\",\"V\")\n",
        "\n",
        "print(ciphertext)\n"
      ],
      "metadata": {
        "id": "B2wtNETpfajr",
        "colab": {
          "base_uri": "https://localhost:8080/"
        },
        "outputId": "2f002ada-002d-4721-9bc4-583d2b9cec80"
      },
      "execution_count": null,
      "outputs": [
        {
          "output_type": "stream",
          "name": "stdout",
          "text": [
            "ALICE COMES UPON A MUSHROOM AND SITTING ON IT IS A BLUE CATERPILLAR SMOKING A HOOKAH.\n",
            " THE CATERPILLAR QUESTIONS ALICE AND SHE ADMITS TO HER CURRENT IDENTITY CRISIS, COMPOUNDED BY HER INABILITY TO REMEMBER A POEM.\n",
            " BEFORE CRAWLING AWAY, THE CATERPILLAR TELLS ALICE THAT ONE SIDE OF THE MUSHROOM WILL MAKE HER TALLER AND THE OTHER SIDE WILL MAKE HER SHORTER.\n",
            " SHE BREAKS OFF TWO PIECES FROM THE MUSHROOM.\n",
            " ONE SIDE MAKES HER SHRINK SMALLER THAN EVER, WHILE ANOTHER CAUSES HER NECK TO GROW HIGH INTO THE TREES, WHERE A PIGEON MISTAKES HER FOR A SERPENT.\n",
            " WITH SOME EFFORT, ALICE BRINGS HERSELF BACK TO HER USUAL HEIGHT.\n",
            " SHE STUMBLES UPON A SMALL ESTATE AND USES THE MUSHROOM TO REACH A MORE APPROPRIATE HEIGHT.\n"
          ]
        }
      ]
    },
    {
      "cell_type": "code",
      "source": [
        "ciphertext = \"xeo iwy djqqod mohzs xeo ezfjrzy, glixjyc l slft, zflyco chzs lgfzii xeo xflyawjh hlydiglqo.\\n l coyxho mfooro fwixhod xeo holkoi zv xeo xlhh zln xfooi, gfolxjyc l izzxejyc iutqezyu zv ylxwfo'i tohzdjoi.\\n li xsjhjcex doigoydod, xeo ixlfi mocly xz otofco, dzxxjyc xeo jydjcz glykli zv xeo yjcex inu.\\n vjfovhjoi dlygod jy xeo toldzs, xeojf mjzhwtjyoigoyx hjcexi vhjgnofjyc hjno xjyu hlyxofyi.\\n jy xeo djixlygo, xeo vljyx ewt zv l djixlyx xfljy gzwhd mo eolfd, l fotjydof zv xeo szfhd mouzyd xeji qolgovwh elkoy.\\nl hzyo zsh ezzxod jy xeo djixlygo, mfolnjyc xeo ijhoygo zv xeo yjcex.\\n xeo igoyx zv vfoiehu mlnod mfold slvxod vfzt l yolfmu gzxxlco, oyxjgjyc lyuzyo vzfxwylxo oyzwce xz glxge l sejvv.\\n l fjkof yolfmu chjixoyod jy xeo tzzyhjcex, jxi slxofi fjqqhjyc coyxhu li jx vhzsod zyslfd.\\n jx sli l tztoyx zv iofoyjxu lyd ixjhhyoii, l qlwio jy xeo ewixho lyd mwixho zv hjvo, seofo zyo gzwhd ijtqhu opjix lyd ilkzf xeo molwxu zv xeo szfhd lfzwyd xeot.\\n\"\n",
        "frequency_table(ciphertext)"
      ],
      "metadata": {
        "colab": {
          "base_uri": "https://localhost:8080/"
        },
        "id": "DUlCAv6psnAi",
        "outputId": "e562ed3a-e371-4cef-b8bc-7bd6fb657d6f"
      },
      "execution_count": null,
      "outputs": [
        {
          "output_type": "stream",
          "name": "stdout",
          "text": [
            "o:0.13474240422721268\n",
            "x:0.0977542932628798\n",
            "y:0.083223249669749\n",
            "l:0.07926023778071334\n",
            "j:0.071334214002642\n",
            "z:0.06472919418758256\n",
            "i:0.05812417437252312\n",
            "e:0.05416116248348745\n",
            "f:0.05019815059445178\n",
            "h:0.0488771466314399\n",
            "d:0.04491413474240423\n",
            "v:0.03038309114927345\n",
            "c:0.03038309114927345\n",
            "g:0.026420079260237782\n",
            "w:0.021136063408190225\n",
            "s:0.019815059445178335\n",
            "t:0.018494055482166448\n",
            "u:0.017173051519154558\n",
            "m:0.017173051519154558\n",
            "q:0.011889035667107\n",
            "n:0.007926023778071334\n",
            "k:0.0066050198150594455\n",
            "r:0.002642007926023778\n",
            "p:0.001321003963011889\n",
            "a:0.001321003963011889\n",
            "b:0.0\n"
          ]
        }
      ]
    },
    {
      "cell_type": "code",
      "source": [
        "ciphertext = \"xeo iwy djqqod mohzs xeo ezfjrzy, glixjyc l slft, zflyco chzs lgfzii xeo xflyawjh hlydiglqo.\\n l coyxho mfooro fwixhod xeo holkoi zv xeo xlhh zln xfooi, gfolxjyc l izzxejyc iutqezyu zv ylxwfo'i tohzdjoi.\\n li xsjhjcex doigoydod, xeo ixlfi mocly xz otofco, dzxxjyc xeo jydjcz glykli zv xeo yjcex inu.\\n vjfovhjoi dlygod jy xeo toldzs, xeojf mjzhwtjyoigoyx hjcexi vhjgnofjyc hjno xjyu hlyxofyi.\\n jy xeo djixlygo, xeo vljyx ewt zv l djixlyx xfljy gzwhd mo eolfd, l fotjydof zv xeo szfhd mouzyd xeji qolgovwh elkoy.\\nl hzyo zsh ezzxod jy xeo djixlygo, mfolnjyc xeo ijhoygo zv xeo yjcex.\\n xeo igoyx zv vfoiehu mlnod mfold slvxod vfzt l yolfmu gzxxlco, oyxjgjyc lyuzyo vzfxwylxo oyzwce xz glxge l sejvv.\\n l fjkof yolfmu chjixoyod jy xeo tzzyhjcex, jxi slxofi fjqqhjyc coyxhu li jx vhzsod zyslfd.\\n jx sli l tztoyx zv iofoyjxu lyd ixjhhyoii, l qlwio jy xeo ewixho lyd mwixho zv hjvo, seofo zyo gzwhd ijtqhu opjix lyd ilkzf xeo molwxu zv xeo szfhd lfzwyd xeot.\\n\"\n",
        "ciphertext = ciphertext.replace(\"o\",\"E\")\n",
        "ciphertext = ciphertext.replace(\"x\",\"T\")\n",
        "ciphertext = ciphertext.replace(\"e\",\"H\")\n",
        "ciphertext = ciphertext.replace(\"l\",\"A\")\n",
        "ciphertext = ciphertext.replace(\"j\",\"E\")\n",
        "ciphertext = ciphertext.replace(\"e\",\"H\")\n",
        "ciphertext = ciphertext.replace(\"f\",\"R\")\n",
        "\n",
        "print(ciphertext)"
      ],
      "metadata": {
        "id": "Iwp4gvBu2YH2",
        "colab": {
          "base_uri": "https://localhost:8080/"
        },
        "outputId": "426bde1c-c354-4d36-e5cd-931cdbb46247"
      },
      "execution_count": null,
      "outputs": [
        {
          "output_type": "stream",
          "name": "stdout",
          "text": [
            "THE iwy dEqqEd mEhzs THE HzRErzy, gAiTEyc A sARt, zRAycE chzs AgRzii THE TRAyawEh hAydigAqE.\n",
            " A cEyThE mREErE RwiThEd THE hEAkEi zv THE TAhh zAn TREEi, gREATEyc A izzTHEyc iutqHzyu zv yATwRE'i tEhzdEEi.\n",
            " Ai TsEhEcHT dEigEydEd, THE iTARi mEcAy Tz EtERcE, dzTTEyc THE EydEcz gAykAi zv THE yEcHT inu.\n",
            " vEREvhEEi dAygEd Ey THE tEAdzs, THEER mEzhwtEyEigEyT hEcHTi vhEgnEREyc hEnE TEyu hAyTERyi.\n",
            " Ey THE dEiTAygE, THE vAEyT Hwt zv A dEiTAyT TRAEy gzwhd mE HEARd, A REtEydER zv THE szRhd mEuzyd THEi qEAgEvwh HAkEy.\n",
            "A hzyE zsh HzzTEd Ey THE dEiTAygE, mREAnEyc THE iEhEygE zv THE yEcHT.\n",
            " THE igEyT zv vREiHhu mAnEd mREAd sAvTEd vRzt A yEARmu gzTTAcE, EyTEgEyc AyuzyE vzRTwyATE EyzwcH Tz gATgH A sHEvv.\n",
            " A REkER yEARmu chEiTEyEd Ey THE tzzyhEcHT, ETi sATERi REqqhEyc cEyThu Ai ET vhzsEd zysARd.\n",
            " ET sAi A tztEyT zv iEREyETu Ayd iTEhhyEii, A qAwiE Ey THE HwiThE Ayd mwiThE zv hEvE, sHERE zyE gzwhd iEtqhu EpEiT Ayd iAkzR THE mEAwTu zv THE szRhd ARzwyd THEt.\n",
            "\n"
          ]
        }
      ]
    },
    {
      "cell_type": "code",
      "source": [],
      "metadata": {
        "id": "zJ_X9fA1qggo"
      },
      "execution_count": null,
      "outputs": []
    }
  ]
}