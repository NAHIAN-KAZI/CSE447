{
  "cells": [
    {
      "cell_type": "markdown",
      "metadata": {
        "id": "SN8H1wkXPXZ9"
      },
      "source": [
        "# RSA"
      ]
    },
    {
      "cell_type": "code",
      "execution_count": null,
      "metadata": {
        "colab": {
          "base_uri": "https://localhost:8080/"
        },
        "id": "cdtAO8nJT2kf",
        "outputId": "2b938129-e55b-4c30-b3f1-fb582f16859b"
      },
      "outputs": [
        {
          "output_type": "stream",
          "name": "stdout",
          "text": [
            "91694925243764\n"
          ]
        }
      ],
      "source": [
        "m = int(\"Secret\".encode(\"utf-8\").hex(),16)\n",
        "print(m)"
      ]
    },
    {
      "cell_type": "code",
      "source": [
        "\n",
        "import random\n",
        "\n",
        "def is_prime(n, k=5):\n",
        "    if n < 2: return False\n",
        "    for p in [2,3,5,7,11,13,17,19,23,29]:\n",
        "        if n % p == 0: return n == p\n",
        "    s, d = 0, n-1\n",
        "    while d % 2 == 0:\n",
        "        s, d = s+1, d//2\n",
        "    for i in range(k):\n",
        "        x = pow(random.randint(2, n-1), d, n)\n",
        "        if x == 1 or x == n-1: continue\n",
        "        for r in range(s-1):\n",
        "            x = pow(x, 2, n)\n",
        "            if x == n-1: break\n",
        "        else: return False\n",
        "    return True\n",
        "\n",
        "def generate_prime(bits):\n",
        "    while True:\n",
        "        n = random.getrandbits(bits)\n",
        "        if n % 2 != 0 and is_prime(n):\n",
        "            return n\n",
        "\n",
        "p = generate_prime(128)\n",
        "q = generate_prime(128)\n",
        "print(f\"p = {p}\")\n",
        "print(f\"q = {q}\")"
      ],
      "metadata": {
        "id": "u1fe5OEdFGGC",
        "colab": {
          "base_uri": "https://localhost:8080/"
        },
        "outputId": "8bf163cc-f9e4-4fbc-e402-a1e6df017d64"
      },
      "execution_count": null,
      "outputs": [
        {
          "output_type": "stream",
          "name": "stdout",
          "text": [
            "p = 152254258634633988108356677051363646693\n",
            "q = 178915191703278566561028199119634767257\n"
          ]
        }
      ]
    },
    {
      "cell_type": "code",
      "execution_count": null,
      "metadata": {
        "colab": {
          "base_uri": "https://localhost:8080/"
        },
        "id": "Flep_Z78Pak0",
        "outputId": "d846404d-8be1-40a9-8b87-7de4928e9f61"
      },
      "outputs": [
        {
          "output_type": "stream",
          "name": "stdout",
          "text": [
            "Public key (e, n): (11, 27240599871256095962875805192559988280003030296259816192027898813587832731101)\n",
            "Private key (d, n): (7429254510342571626238855961607269530819598412524155537461412892022772995587, 27240599871256095962875805192559988280003030296259816192027898813587832731101)\n",
            "Ciphertext c: 6480716183875626085030840656979384216844606366240521173431789427099685581058\n"
          ]
        }
      ],
      "source": [
        "def mod_inverse(a, m):\n",
        "    def egcd(a, b):\n",
        "        if a == 0:\n",
        "            return (b, 0, 1)\n",
        "        else:\n",
        "            g, y, x = egcd(b % a, a)\n",
        "            return (g, x - (b // a) * y, y)\n",
        "\n",
        "    g, x, _ = egcd(a, m)\n",
        "    if g != 1:\n",
        "        raise Exception('Modular inverse does not exist')\n",
        "    else:\n",
        "        return x % m\n",
        "\n",
        "\n",
        "m = 91694925243764\n",
        "e = 11\n",
        "\n",
        "\n",
        "n = p * q\n",
        "phi = (p - 1) * (q - 1)\n",
        "\n",
        "\n",
        "d = mod_inverse(e, phi)\n",
        "\n",
        "\n",
        "c = pow(m, e, n)\n",
        "\n",
        "print(f\"Public key (e, n): ({e}, {n})\")\n",
        "print(f\"Private key (d, n): ({d}, {n})\")\n",
        "print(f\"Ciphertext c: {c}\")"
      ]
    },
    {
      "cell_type": "code",
      "execution_count": null,
      "metadata": {
        "id": "CUApcT0PZ4es",
        "colab": {
          "base_uri": "https://localhost:8080/"
        },
        "outputId": "8c3fb209-fbb1-4dc2-dbc7-9f1956bf4a39"
      },
      "outputs": [
        {
          "output_type": "stream",
          "name": "stdout",
          "text": [
            "Decrypted message (as number): 91694925243764\n",
            "Decryption successful! The decrypted message matches the original.\n"
          ]
        }
      ],
      "source": [
        "decrypted_m = pow(c, d, n)\n",
        "\n",
        "print(f\"Decrypted message (as number): {decrypted_m}\")\n",
        "\n",
        "\n",
        "if decrypted_m == m:\n",
        "    print(\"Decryption successful! The decrypted message matches the original.\")\n",
        "else:\n",
        "    print(\"Decryption failed. The decrypted message does not match the original.\")"
      ]
    },
    {
      "cell_type": "code",
      "source": [
        "m = 91694925243764\n",
        "print(bytes.fromhex(hex(m)[2:]).decode('utf-8') )"
      ],
      "metadata": {
        "colab": {
          "base_uri": "https://localhost:8080/"
        },
        "id": "sHDbhVSGFN6K",
        "outputId": "b53f5315-4254-48cf-9612-1e48dc7558ad"
      },
      "execution_count": null,
      "outputs": [
        {
          "output_type": "stream",
          "name": "stdout",
          "text": [
            "Secret\n"
          ]
        }
      ]
    }
  ],
  "metadata": {
    "colab": {
      "provenance": []
    },
    "kernelspec": {
      "display_name": "Python 3",
      "name": "python3"
    },
    "language_info": {
      "name": "python"
    }
  },
  "nbformat": 4,
  "nbformat_minor": 0
}