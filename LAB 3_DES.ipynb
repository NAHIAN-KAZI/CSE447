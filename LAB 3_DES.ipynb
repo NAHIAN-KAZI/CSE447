{
  "nbformat": 4,
  "nbformat_minor": 0,
  "metadata": {
    "colab": {
      "provenance": []
    },
    "kernelspec": {
      "name": "python3",
      "display_name": "Python 3"
    },
    "language_info": {
      "name": "python"
    }
  },
  "cells": [
    {
      "cell_type": "code",
      "source": [
        "!pip install PyCryptodome"
      ],
      "metadata": {
        "colab": {
          "base_uri": "https://localhost:8080/"
        },
        "id": "Mo9IWa4YeIqm",
        "outputId": "213e835c-175f-4fa3-e5e4-a820a7cb9d66"
      },
      "execution_count": null,
      "outputs": [
        {
          "output_type": "stream",
          "name": "stdout",
          "text": [
            "Collecting PyCryptodome\n",
            "  Downloading pycryptodome-3.20.0-cp35-abi3-manylinux_2_17_x86_64.manylinux2014_x86_64.whl (2.1 MB)\n",
            "\u001b[2K     \u001b[90m━━━━━━━━━━━━━━━━━━━━━━━━━━━━━━━━━━━━━━━━\u001b[0m \u001b[32m2.1/2.1 MB\u001b[0m \u001b[31m7.4 MB/s\u001b[0m eta \u001b[36m0:00:00\u001b[0m\n",
            "\u001b[?25hInstalling collected packages: PyCryptodome\n",
            "Successfully installed PyCryptodome-3.20.0\n"
          ]
        }
      ]
    },
    {
      "cell_type": "code",
      "execution_count": null,
      "metadata": {
        "id": "gtdy5PGTd2Lb"
      },
      "outputs": [],
      "source": [
        "from Crypto.Cipher import DES\n",
        "from Crypto.Random import get_random_bytes"
      ]
    },
    {
      "cell_type": "code",
      "source": [
        "def pad_text(text):\n",
        "    # Ensure the plaintext length is a multiple of 8 bytes (DES block size)\n",
        "    padding_length = 8 - (len(text) % 8)\n",
        "    padded_text = text + bytes([padding_length] * padding_length)\n",
        "    return padded_text"
      ],
      "metadata": {
        "id": "2YUag_rOe8Ox"
      },
      "execution_count": null,
      "outputs": []
    },
    {
      "cell_type": "code",
      "source": [
        "from Crypto.Cipher import DES\n",
        "from Crypto.Util.Padding import pad\n",
        "\n",
        "def des_encrypt(plaintext, key):\n",
        "    cipher = DES.new(key, DES.MODE_ECB)\n",
        "    padded_plaintext = pad(plaintext, DES.block_size)\n",
        "    ciphertext = cipher.encrypt(padded_plaintext)\n",
        "    return ciphertext"
      ],
      "metadata": {
        "id": "N7Yr6dX6fFEd"
      },
      "execution_count": null,
      "outputs": []
    },
    {
      "cell_type": "code",
      "source": [
        "plaintext = b\"This is a secret\"\n",
        "key = get_random_bytes(8)  # Generate a random 64-bit (8-byte) key\n",
        "\n",
        "print(\"Original plaintext:\", plaintext.decode('utf-8'))\n",
        "print(\"Original key (in bytes):\", key)\n",
        "\n",
        "plaintext = pad_text(plaintext)\n",
        "\n",
        "ciphertext = des_encrypt(plaintext, key)\n",
        "print(\"Encrypted ciphertext (in bytes):\", ciphertext)"
      ],
      "metadata": {
        "colab": {
          "base_uri": "https://localhost:8080/"
        },
        "id": "zdMdYJzofDCi",
        "outputId": "a290c92e-4598-4e71-f6c7-6bf62b2946e1"
      },
      "execution_count": null,
      "outputs": [
        {
          "output_type": "stream",
          "name": "stdout",
          "text": [
            "Original plaintext: This is a secret\n",
            "Original key (in bytes): b'\\x03\\xac0/\\xb8n\\xa0\\x92'\n",
            "Encrypted ciphertext (in bytes): b'\\xa6)\\xe2\\x87\\x9dO\\x84\\x1d\\x85\\x9f\\x9d=n\\x88qQ\\x8d\\x1b\\xab\\xa1\\xed\\x96\\xe3\\xe6\\x8d\\x1b\\xab\\xa1\\xed\\x96\\xe3\\xe6'\n"
          ]
        }
      ]
    },
    {
      "cell_type": "code",
      "source": [
        "from Crypto.Util.Padding import unpad\n",
        "\n",
        "def des_decrypt(ciphertext, key):\n",
        "    cipher = DES.new(key, DES.MODE_ECB)\n",
        "    padded_plaintext = cipher.decrypt(ciphertext)\n",
        "    plaintext = unpad(padded_plaintext, DES.block_size)\n",
        "    return plaintext"
      ],
      "metadata": {
        "id": "KoXC3lYDfK2_"
      },
      "execution_count": null,
      "outputs": []
    },
    {
      "cell_type": "code",
      "source": [
        "def des_decrypt(ciphertext, key):\n",
        "    # Decrypt DES(Mode:ECB) and return the plaintext\n",
        "    des = DES.new(key, DES.MODE_ECB)\n",
        "    plaintext = des.decrypt(ciphertext)\n",
        "    return plaintext"
      ],
      "metadata": {
        "id": "u2i13KIUfL21"
      },
      "execution_count": null,
      "outputs": []
    },
    {
      "cell_type": "code",
      "source": [
        "def expand(block):\n",
        "    # Expansion table\n",
        "    expansion_table = [\n",
        "        31,  0,  1,  2,  3,  4,\n",
        "         3,  4,  5,  6,  7,  8,\n",
        "         7,  8,  9, 10, 11, 12,\n",
        "        11, 12, 13, 14, 15, 16,\n",
        "        15, 16, 17, 18, 19, 20,\n",
        "        19, 20, 21, 22, 23, 24,\n",
        "        23, 24, 25, 26, 27, 28,\n",
        "        27, 28, 29, 30, 31,  0\n",
        "    ]\n",
        "    return ''.join(block[i] for i in expansion_table)"
      ],
      "metadata": {
        "id": "ESHwbRer49Xa"
      },
      "execution_count": null,
      "outputs": []
    },
    {
      "cell_type": "code",
      "source": [
        "def s_box_substitute(expanded_block):\n",
        "\n",
        "    s_boxes = [\n",
        "\n",
        "        [\n",
        "            [14, 4, 13, 1, 2, 15, 11, 8, 3, 10, 6, 12, 5, 9, 0, 7],\n",
        "            [0, 15, 7, 4, 14, 2, 13, 1, 10, 6, 12, 11, 9, 5, 3, 8],\n",
        "            [4, 1, 14, 8, 13, 6, 2, 11, 15, 12, 9, 7, 3, 10, 5, 0],\n",
        "            [15, 12, 8, 2, 4, 9, 1, 7, 5, 11, 3, 14, 10, 0, 6, 13]\n",
        "        ],\n",
        "\n",
        "    ]\n",
        "\n",
        "\n",
        "    chunks = [expanded_block[i:i+6] for i in range(0, 48, 6)]\n",
        "\n",
        "    result = ''\n",
        "    for i, chunk in enumerate(chunks):\n",
        "        row = int(chunk[0] + chunk[5], 2)\n",
        "        col = int(chunk[1:5], 2)\n",
        "        val = s_boxes[i][row][col]\n",
        "        result += format(val, '04b')\n",
        "\n",
        "    return result"
      ],
      "metadata": {
        "id": "7CE5CkGB5BrQ"
      },
      "execution_count": null,
      "outputs": []
    },
    {
      "cell_type": "code",
      "source": [
        "def p_box_permute(block):\n",
        "    # P-box permutation table\n",
        "    p_box = [\n",
        "        15, 6, 19, 20, 28, 11, 27, 16,\n",
        "        0, 14, 22, 25, 4, 17, 30, 9,\n",
        "        1, 7, 23, 13, 31, 26, 2, 8,\n",
        "        18, 12, 29, 5, 21, 10, 3, 24\n",
        "    ]\n",
        "    return ''.join(block[i] for i in p_box)"
      ],
      "metadata": {
        "id": "RZdPFPIT5EjI"
      },
      "execution_count": null,
      "outputs": []
    },
    {
      "cell_type": "code",
      "source": [
        "from Crypto.Cipher import DES\n",
        "from Crypto.Random import get_random_bytes\n",
        "from Crypto.Util.Padding import pad, unpad\n",
        "import binascii\n",
        "\n",
        "def pad_text(text):\n",
        "    return pad(text, DES.block_size)\n",
        "\n",
        "def unpad_text(padded_text):\n",
        "    return unpad(padded_text, DES.block_size)\n",
        "\n",
        "def des_encrypt(plaintext, key):\n",
        "    cipher = DES.new(key, DES.MODE_ECB)\n",
        "    padded_plaintext = pad_text(plaintext)\n",
        "    ciphertext = cipher.encrypt(padded_plaintext)\n",
        "    return ciphertext\n",
        "\n",
        "def des_decrypt(ciphertext, key):\n",
        "    cipher = DES.new(key, DES.MODE_ECB)\n",
        "    padded_plaintext = cipher.decrypt(ciphertext)\n",
        "    plaintext = unpad_text(padded_plaintext)\n",
        "    return plaintext\n",
        "\n",
        "\n",
        "plaintext = b\"This is a secret\"\n",
        "key = get_random_bytes(8)\n",
        "\n",
        "print(\"Original plaintext:\", plaintext.decode('utf-8'))\n",
        "print(\"Key (hex):\", binascii.hexlify(key).decode('utf-8'))\n",
        "\n",
        "\n",
        "ciphertext = des_encrypt(plaintext, key)\n",
        "print(\"Encrypted ciphertext (hex):\", binascii.hexlify(ciphertext).decode('utf-8'))\n",
        "\n",
        "\n",
        "decrypted_text = des_decrypt(ciphertext, key)\n",
        "print(\"Decrypted text:\", decrypted_text.decode('utf-8'))\n",
        "\n",
        "\n",
        "print(\"Decryption successful:\", decrypted_text == plaintext)"
      ],
      "metadata": {
        "colab": {
          "base_uri": "https://localhost:8080/"
        },
        "id": "kv4-aYoo5Nno",
        "outputId": "7009135b-bf32-4319-f1ee-db234152f60c"
      },
      "execution_count": null,
      "outputs": [
        {
          "output_type": "stream",
          "name": "stdout",
          "text": [
            "Original plaintext: This is a secret\n",
            "Key (hex): e77f0ec09c96f439\n",
            "Encrypted ciphertext (hex): d26d65e3106598009e08a3db6dd6d78d2beec1c9ed3179ec\n",
            "Decrypted text: This is a secret\n",
            "Decryption successful: True\n"
          ]
        }
      ]
    },
    {
      "cell_type": "code",
      "source": [
        "from Crypto.Cipher import DES3\n",
        "from Crypto.Random import get_random_bytes\n",
        "from Crypto.Util.Padding import pad, unpad\n",
        "import binascii\n",
        "\n",
        "def pad_text(text):\n",
        "    return pad(text, DES3.block_size)\n",
        "\n",
        "def unpad_text(padded_text):\n",
        "    return unpad(padded_text, DES3.block_size)\n",
        "\n",
        "def triple_des_encrypt(plaintext, key):\n",
        "    cipher = DES3.new(key, DES3.MODE_ECB)\n",
        "    padded_plaintext = pad_text(plaintext)\n",
        "    ciphertext = cipher.encrypt(padded_plaintext)\n",
        "    return ciphertext\n",
        "\n",
        "def triple_des_decrypt(ciphertext, key):\n",
        "    cipher = DES3.new(key, DES3.MODE_ECB)\n",
        "    padded_plaintext = cipher.decrypt(ciphertext)\n",
        "    plaintext = unpad_text(padded_plaintext)\n",
        "    return plaintext\n",
        "\n",
        "\n",
        "plaintext = b\"This is a secret message for Triple DES!\"\n",
        "key = DES3.adjust_key_parity(get_random_bytes(24))\n",
        "\n",
        "print(\"Original plaintext:\", plaintext.decode('utf-8'))\n",
        "print(\"Key (hex):\", binascii.hexlify(key).decode('utf-8'))\n",
        "\n",
        "\n",
        "ciphertext = triple_des_encrypt(plaintext, key)\n",
        "print(\"Encrypted ciphertext (hex):\", binascii.hexlify(ciphertext).decode('utf-8'))\n",
        "\n",
        "\n",
        "decrypted_text = triple_des_decrypt(ciphertext, key)\n",
        "print(\"Decrypted text:\", decrypted_text.decode('utf-8'))\n",
        "\n",
        "\n",
        "print(\"Decryption successful:\", decrypted_text == plaintext)"
      ],
      "metadata": {
        "id": "jWwMSldIgfxl",
        "colab": {
          "base_uri": "https://localhost:8080/"
        },
        "outputId": "f659701b-a4f9-45d7-e23d-e8edc5eb7c49"
      },
      "execution_count": null,
      "outputs": [
        {
          "output_type": "stream",
          "name": "stdout",
          "text": [
            "Original plaintext: This is a secret message for Triple DES!\n",
            "Key (hex): 529eb60b0d97a13bdcf494e638b3f82f45922c891a8a452f\n",
            "Encrypted ciphertext (hex): f9923ce622e9a11fc4a4da1eea3d65d878b6f640aff9c282e40c0565435acea5907d18b57e14933bd3999738e108d224\n",
            "Decrypted text: This is a secret message for Triple DES!\n",
            "Decryption successful: True\n"
          ]
        }
      ]
    }
  ]
}