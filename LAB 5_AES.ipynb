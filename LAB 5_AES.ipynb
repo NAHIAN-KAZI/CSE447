{
  "nbformat": 4,
  "nbformat_minor": 0,
  "metadata": {
    "colab": {
      "provenance": []
    },
    "kernelspec": {
      "name": "python3",
      "display_name": "Python 3"
    },
    "language_info": {
      "name": "python"
    }
  },
  "cells": [
    {
      "cell_type": "markdown",
      "source": [
        "###Task 1\n",
        "\n",
        "You are given the following code that encrypts a string using RSA cryptosystem.\n",
        "\n",
        "```\n",
        "#!/usr/bin/env python3\n",
        "from Crypto.Util.number import getPrime, inverse, bytes_to_long, long_to_bytes, GCD\n",
        "\n",
        "e = 0x10001\n",
        "\n",
        "# n will be 8 * (100 + 100) = 1600 bits strong (I think?) which is pretty good\n",
        "p = getPrime(100)\n",
        "q = getPrime(100)\n",
        "phi = (p - 1) * (q - 1)\n",
        "d = inverse(e, phi)\n",
        "\n",
        "n = p * q\n",
        "\n",
        "FLAG = b\"crypto{???????????????}\"\n",
        "pt = bytes_to_long(FLAG)\n",
        "ct = pow(pt, e, n)\n",
        "\n",
        "print(f\"n = {n}\")\n",
        "print(f\"e = {e}\")\n",
        "print(f\"ct = {ct}\")\n",
        "```\n",
        "You are also given the following output:\n",
        "\n",
        "\n",
        "```\n",
        "n = 984994081290620368062168960884976209711107645166770780785733\n",
        "e = 65537\n",
        "ct = 948553474947320504624302879933619818331484350431616834086273\n",
        "```\n",
        "Now, using the decryption method of RSA, calculate the plaintext.\n",
        "\n",
        "Hint: You don't need to compute factor if others already calculated it earlier. You just need to find it."
      ],
      "metadata": {
        "id": "xOqmJS5MzRHI"
      }
    },
    {
      "cell_type": "code",
      "source": [
        "!pip install pycryptodome"
      ],
      "metadata": {
        "colab": {
          "base_uri": "https://localhost:8080/"
        },
        "id": "dYlGISFC9yYp",
        "outputId": "e3d7b209-53e5-4ba8-a963-397905191a93"
      },
      "execution_count": null,
      "outputs": [
        {
          "output_type": "stream",
          "name": "stdout",
          "text": [
            "Requirement already satisfied: pycryptodome in /usr/local/lib/python3.10/dist-packages (3.20.0)\n"
          ]
        }
      ]
    },
    {
      "cell_type": "code",
      "execution_count": null,
      "metadata": {
        "id": "gOTM3D7ZzQEC",
        "colab": {
          "base_uri": "https://localhost:8080/"
        },
        "outputId": "7626ecd0-6f5b-421d-9d6c-a3a1c744b8bd"
      },
      "outputs": [
        {
          "output_type": "stream",
          "name": "stdout",
          "text": [
            "b'crypto{N33d_b1g_pR1m35}'\n"
          ]
        }
      ],
      "source": [
        "\n",
        "from Crypto.Util.number import long_to_bytes, inverse\n",
        "\n",
        "\n",
        "n = 984994081290620368062168960884976209711107645166770780785733\n",
        "e = 65537\n",
        "ct = 948553474947320504624302879933619818331484350431616834086273\n",
        "\n",
        "\n",
        "p =  848445505077945374527983649411\n",
        "q =  1160939713152385063689030212503\n",
        "\n",
        "\n",
        "phi = (p - 1) * (q - 1)\n",
        "\n",
        "\n",
        "d = inverse(e, phi)\n",
        "\n",
        "\n",
        "pt = pow(ct, d, n)\n",
        "\n",
        "\n",
        "plaintext = long_to_bytes(pt)\n",
        "\n",
        "print(plaintext)\n"
      ]
    },
    {
      "cell_type": "markdown",
      "source": [
        "###Task 2\n",
        "#Implementation of AES decryption\n",
        "Given the following key and ciphertext, your task is to use AES decryption and find the plaintext."
      ],
      "metadata": {
        "id": "ZfCsDWLk0ivx"
      }
    },
    {
      "cell_type": "code",
      "source": [
        "# Given inputs\n",
        "N_ROUNDS = 10\n",
        "\n",
        "key        = b'\\xc3,\\\\\\xa6\\xb5\\x80^\\x0c\\xdb\\x8d\\xa5z*\\xb6\\xfe\\\\'\n",
        "ciphertext = b'\\xd1O\\x14j\\xa4+O\\xb6\\xa1\\xc4\\x08B)\\x8f\\x12\\xdd'"
      ],
      "metadata": {
        "id": "ZG1-hosNDm-2"
      },
      "execution_count": null,
      "outputs": []
    },
    {
      "cell_type": "code",
      "source": [
        "from Crypto.Cipher import AES\n",
        "\n",
        "\n",
        "N_ROUNDS = 10\n",
        "key = b'\\xc3,\\\\\\xa6\\xb5\\x80^\\x0c\\xdb\\x8d\\xa5z*\\xb6\\xfe\\\\'\n",
        "ciphertext = b'\\xd1O\\x14j\\xa4+O\\xb6\\xa1\\xc4\\x08B)\\x8f\\x12\\xdd'\n",
        "\n",
        "\n",
        "cipher = AES.new(key, AES.MODE_ECB)\n",
        "\n",
        "\n",
        "plaintext = cipher.decrypt(ciphertext)\n",
        "\n",
        "print(\"Decrypted plaintext:\", plaintext)\n"
      ],
      "metadata": {
        "id": "9dXDgvFTD7Ww",
        "colab": {
          "base_uri": "https://localhost:8080/"
        },
        "outputId": "4ab1e75a-8a94-4381-fdfa-8aaa786be215"
      },
      "execution_count": null,
      "outputs": [
        {
          "output_type": "stream",
          "name": "stdout",
          "text": [
            "Decrypted plaintext: b'crypto{MYAES128}'\n"
          ]
        }
      ]
    }
  ]
}