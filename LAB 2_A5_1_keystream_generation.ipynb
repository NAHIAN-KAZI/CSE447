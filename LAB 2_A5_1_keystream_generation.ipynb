{
  "nbformat": 4,
  "nbformat_minor": 0,
  "metadata": {
    "colab": {
      "provenance": []
    },
    "kernelspec": {
      "name": "python3",
      "display_name": "Python 3"
    },
    "language_info": {
      "name": "python"
    }
  },
  "cells": [
    {
      "cell_type": "code",
      "execution_count": null,
      "metadata": {
        "colab": {
          "base_uri": "https://localhost:8080/"
        },
        "id": "LLlihL76jPPq",
        "outputId": "f9930be0-c0ed-4f24-c28d-48c050559f9e"
      },
      "outputs": [
        {
          "output_type": "stream",
          "name": "stdout",
          "text": [
            "Enter a 19-bit binary number for x: 1010101010101010101\n",
            "Enter a 22-bit binary number for y: 1100110011001100110001\n",
            "Enter a 23-bit binary number for z: 11100001111000011110001\n",
            "Enter the number of keystream bits to generate: 4\n",
            "x: 1010101010101010101\n",
            "y: 1100110011001100110001\n",
            "z: 11100001111000011110001\n",
            "x: 0101010101010101010\n",
            "y: 1100110011001100110001\n",
            "z: 01110000111100001111000\n",
            "x: 0010101010101010101\n",
            "y: 1110011001100110011000\n",
            "z: 01110000111100001111000\n",
            "x: 0001010101010101010\n",
            "y: 0111001100110011001100\n",
            "z: 00111000011110000111100\n",
            "4-bit Keystream: 1100\n"
          ]
        }
      ],
      "source": [
        "def a5_1_keystream(x, y, z, n):\n",
        "\n",
        "    x = [int(bit) for bit in x]\n",
        "    y = [int(bit) for bit in y]\n",
        "    z = [int(bit) for bit in z]\n",
        "    def majority(bit1, bit2, bit3):\n",
        "        return int((bit1 + bit2 + bit3) >= 2)\n",
        "\n",
        "    keystream = []\n",
        "\n",
        "    for _ in range(n):\n",
        "\n",
        "        m = majority(x[8], y[10], z[10])\n",
        "\n",
        "\n",
        "        print(\"x:\", ''.join(map(str, x)))\n",
        "        print(\"y:\", ''.join(map(str, y)))\n",
        "        print(\"z:\", ''.join(map(str, z)))\n",
        "\n",
        "        if x[8] == m:\n",
        "            t = x[13] ^ x[16] ^ x[17] ^ x[18]\n",
        "            x = [t] + x[:-1]\n",
        "\n",
        "        if y[10] == m:\n",
        "            t = y[20] ^ y[21]\n",
        "            y = [t] + y[:-1]\n",
        "\n",
        "        if z[10] == m:\n",
        "            t = z[7] ^ z[20] ^ z[21] ^ z[22]\n",
        "            z = [t] + z[:-1]\n",
        "\n",
        "        keystream_bit = x[18] ^ y[21] ^ z[22]\n",
        "        keystream.append(keystream_bit)\n",
        "\n",
        "\n",
        "    keystream_value = ''.join(map(str, keystream))\n",
        "    return keystream_value\n",
        "\n",
        "\n",
        "x = input(\"Enter a 19-bit binary number for x: \")\n",
        "y = input(\"Enter a 22-bit binary number for y: \")\n",
        "z = input(\"Enter a 23-bit binary number for z: \")\n",
        "n = int(input(\"Enter the number of keystream bits to generate: \"))\n",
        "\n",
        "\n",
        "if len(x) != 19:\n",
        "    print(\"Error: The input for x must be a 19-bit binary number.\")\n",
        "elif len(y) != 22:\n",
        "    print(\"Error: The input for y must be a 22-bit binary number.\")\n",
        "elif len(z) != 23:\n",
        "    print(\"Error: The input for z must be a 23-bit binary number.\")\n",
        "else:\n",
        "    keystream_bits = a5_1_keystream(x, y, z, n)\n",
        "    print(f\"{n}-bit Keystream: {keystream_bits}\")\n"
      ]
    },
    {
      "cell_type": "code",
      "source": [
        "x = '101'\n",
        "x = [int(bit) for bit in x]\n",
        "print(x)"
      ],
      "metadata": {
        "colab": {
          "base_uri": "https://localhost:8080/"
        },
        "id": "0xwbOyL04uoN",
        "outputId": "ccda5aa2-4b9d-441d-e1ab-84dc71f4afb1"
      },
      "execution_count": null,
      "outputs": [
        {
          "output_type": "stream",
          "name": "stdout",
          "text": [
            "[1, 0, 1]\n"
          ]
        }
      ]
    },
    {
      "cell_type": "code",
      "source": [],
      "metadata": {
        "id": "wwyunpTx4y-j"
      },
      "execution_count": null,
      "outputs": []
    }
  ]
}